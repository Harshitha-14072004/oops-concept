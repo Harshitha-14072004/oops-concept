{
 "cells": [
  {
   "cell_type": "markdown",
   "id": "8c861690-203b-4309-9ccd-b9a839ff16fb",
   "metadata": {},
   "source": [
    "Create a vehicle class with an init method having instance variables as name_of_vehicle, max_speed\n",
    "and average_of_vehicle."
   ]
  },
  {
   "cell_type": "code",
   "execution_count": 1,
   "id": "97701ac9-65f4-4922-b65b-4d3e53f6a526",
   "metadata": {},
   "outputs": [
    {
     "name": "stdout",
     "output_type": "stream",
     "text": [
      "Vehicle: Car, Max Speed: 200, Average Speed: 60\n"
     ]
    }
   ],
   "source": [
    "class Vehicle:\n",
    "    def __init__(self, name_of_vehicle, max_speed, average_speed):\n",
    "        self.name_of_vehicle = name_of_vehicle\n",
    "        self.max_speed = max_speed\n",
    "        self.average_speed = average_speed\n",
    "\n",
    "car = Vehicle(\"Car\", 200, 60)\n",
    "print(f\"Vehicle: {car.name_of_vehicle}, Max Speed: {car.max_speed}, Average Speed: {car.average_speed}\")\n"
   ]
  },
  {
   "cell_type": "markdown",
   "id": "b6fad869-b356-49c9-826f-94f44ec453ce",
   "metadata": {},
   "source": [
    "Q2. Create a child class car from the vehicle class created in Que 1, which will inherit the vehicle class.\n",
    "Create a method named seating_capacity which takes capacity as an argument and returns the name of\n",
    "the vehicle and its seating capacity."
   ]
  },
  {
   "cell_type": "code",
   "execution_count": 3,
   "id": "59a70e2f-eae4-4bed-b87e-e14f44a96bc0",
   "metadata": {},
   "outputs": [
    {
     "name": "stdout",
     "output_type": "stream",
     "text": [
      "The Toyota has a seating capacity of 5 passengers.\n"
     ]
    }
   ],
   "source": [
    "class Car(Vehicle):\n",
    "    def __init__(self, name_of_vehicle, max_speed, average_speed):\n",
    "        super().__init__(name_of_vehicle, max_speed, average_speed)\n",
    "\n",
    "    def seating_capacity(self, capacity):\n",
    "        return f\"The {self.name_of_vehicle} has a seating capacity of {capacity} passengers.\"\n",
    "\n",
    "car = Car(\"Toyota\", 180, 50)\n",
    "print(car.seating_capacity(5))\n"
   ]
  },
  {
   "cell_type": "markdown",
   "id": "013f4992-c94a-4cdf-bd7f-31e65bfb2caa",
   "metadata": {},
   "source": [
    "Q3. What is multiple inheritance? Write a python code to demonstrate multiple inheritance."
   ]
  },
  {
   "cell_type": "code",
   "execution_count": 4,
   "id": "9767d1f0-3016-40c6-a503-dc3ad5b38ff8",
   "metadata": {},
   "outputs": [
    {
     "name": "stdout",
     "output_type": "stream",
     "text": [
      "Method 1 from Parent 1\n",
      "Method 2 from Parent 2\n",
      "Method 3 from Child\n"
     ]
    }
   ],
   "source": [
    "class Parent1:\n",
    "    def method1(self):\n",
    "        print(\"Method 1 from Parent 1\")\n",
    "\n",
    "class Parent2:\n",
    "    def method2(self):\n",
    "        print(\"Method 2 from Parent 2\")\n",
    "\n",
    "class Child(Parent1, Parent2):\n",
    "    def method3(self):\n",
    "        print(\"Method 3 from Child\")\n",
    "\n",
    "# Creating an instance of the Child class\n",
    "child = Child()\n",
    "\n",
    "# Calling methods from Parent1\n",
    "child.method1()  \n",
    "\n",
    "# Calling methods from Parent2\n",
    "child.method2()  \n",
    "\n",
    "# Calling methods from Child\n",
    "child.method3()  \n"
   ]
  },
  {
   "cell_type": "markdown",
   "id": "7cacb160-c107-427e-a9dc-d18ec1e76389",
   "metadata": {},
   "source": [
    "Q4. What are getter and setter in python? Create a class and create a getter and a setter method in this\n",
    "class."
   ]
  },
  {
   "cell_type": "code",
   "execution_count": 1,
   "id": "7e794420-6db9-4a36-8f18-3a7112633f61",
   "metadata": {},
   "outputs": [
    {
     "name": "stdout",
     "output_type": "stream",
     "text": [
      "10\n"
     ]
    }
   ],
   "source": [
    "class MyClass:\n",
    "    def __init__(self):\n",
    "        self._my_variable = None  \n",
    "    def get_my_variable(self):\n",
    "        return self._my_variable\n",
    "\n",
    "    def set_my_variable(self, value):\n",
    "        self._my_variable = value\n",
    "obj = MyClass()\n",
    "\n",
    "obj.set_my_variable(10)\n",
    "\n",
    "print(obj.get_my_variable()) "
   ]
  },
  {
   "cell_type": "markdown",
   "id": "a49e003c-0934-4d6b-b0a3-82674c74cac6",
   "metadata": {},
   "source": [
    "Q5.What is method overriding in python? Write a python code to demonstrate method overriding."
   ]
  },
  {
   "cell_type": "code",
   "execution_count": null,
   "id": "0bdc73e7-1460-4437-8b27-cea539f0684a",
   "metadata": {},
   "outputs": [],
   "source": []
  }
 ],
 "metadata": {
  "kernelspec": {
   "display_name": "Python 3 (ipykernel)",
   "language": "python",
   "name": "python3"
  },
  "language_info": {
   "codemirror_mode": {
    "name": "ipython",
    "version": 3
   },
   "file_extension": ".py",
   "mimetype": "text/x-python",
   "name": "python",
   "nbconvert_exporter": "python",
   "pygments_lexer": "ipython3",
   "version": "3.10.8"
  }
 },
 "nbformat": 4,
 "nbformat_minor": 5
}
